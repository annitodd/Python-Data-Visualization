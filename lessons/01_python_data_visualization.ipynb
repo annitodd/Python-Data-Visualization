{
 "cells": [
  {
   "cell_type": "markdown",
   "metadata": {},
   "source": [
    "# Python Data Visualization: Part 1\n",
    "\n",
    "* * * \n",
    "\n",
    "<div class=\"alert alert-success\">  \n",
    "    \n",
    "### Learning Objectives \n",
    "    \n",
    "* Understand the general principles and common pitfalls of data visualization.\n",
    "* Gain familarity with key features of python plotting libraries, namely `matplotlib` and `seaborn`.\n",
    "* Gain familarity with the syntax of `matplotlib` and `seaborn`.\n",
    "* Use `seaborn` to visualize histogram, bar plot, and box plot.\n",
    "    \n",
    "</div>\n",
    "\n",
    "### Icons Used in This Notebook\n",
    "🔔 **Question**: A quick question to help you understand what's going on.<br>\n",
    "🥊 **Challenge**: Interactive excersise. We'll work through these in the workshop!<br>\n",
    "💡 **Tip**: How to do something a bit more efficiently or effectively.<br>\n",
    "🎬 **Demo**: Showing off something more advanced – so you know what Python can be used for!<br> \n",
    "\n",
    "### Sections\n",
    "1. [Principles of Data Visualization](#section1)\n",
    "2. [Python Libraries for Visualization](#section2)\n",
    "3. [Histogram](#section3)\n",
    "4. [Bar Plot](#section4)\n",
    "5. [Box Plot](#section5)\n",
    "6. [Demo: Overlay a Strip Plot on Top of the Box Plot](#demo1)"
   ]
  },
  {
   "cell_type": "markdown",
   "metadata": {
    "tags": []
   },
   "source": [
    "<a id='section1'></a>\n",
    "\n",
    "# Principles of Data Visualization\n",
    "\n",
    "Visualization is meant to convey information.\n",
    "\n",
    "> The power of a graph is its ability to enable one to take in the quantitative information, organize it, and see patterns and structure not readily revealed by other means of studying the data.\n",
    "\n",
    "\\- Cleveland and McGill, 1984\n",
    "\n",
    "That said, to accurately and efficiently communicate the information hidden within the data, we should also be aware of the common pitfalls of data visualization.\n",
    "\n",
    "It's always good to sit back and ask ourseleves:\n",
    "- Does the plot include sufficient text descriptions (e.g. labels, legend, and title)?\n",
    "- Does the plot has an approriate size and scale?\n",
    "- Does the plot contain too much or too little data?\n",
    "- Does the plot include a common scale for group comparison?\n",
    "- And does the chosen color contrast accurately convey the differences?\n",
    "\n",
    "The answers to these questions vary depending on the data we have and the message we want to convey through the plot.\n",
    "\n",
    "Throughout the workshop, we will discuss the decisions we need to make when encountering such questions, as well as the solutions to address them."
   ]
  },
  {
   "cell_type": "markdown",
   "metadata": {},
   "source": [
    "<a id='section2'></a>\n",
    "\n",
    "# Python Libraries for Visualization\n",
    "\n"
   ]
  },
  {
   "cell_type": "markdown",
   "metadata": {},
   "source": [
    "### Import Libraries"
   ]
  },
  {
   "cell_type": "code",
   "execution_count": 3,
   "metadata": {
    "tags": []
   },
   "outputs": [],
   "source": [
    "# Import pandas and assign it to an alias `pd`\n",
    "import pandas as pd\n",
    "\n",
    "# Import matplotlib and assign it to an alias `mpl`\n",
    "import matplotlib as mpl \n",
    "\n",
    "# Import matplotlib.pyplot and assign it to an alias `plt`\n",
    "import matplotlib.pyplot as plt\n",
    "\n",
    "# Import seaborn as assign to an alias `sns`\n",
    "import seaborn as sns"
   ]
  },
  {
   "cell_type": "markdown",
   "metadata": {},
   "source": [
    "💡 **Tip**: `pyplot` is a collection of command style functions that make matplotlib work like MATLAB and save many lines of repeated code. By convention, `pyplot` is aliased to `plt`, which we just did in the above import cell. "
   ]
  },
  {
   "cell_type": "markdown",
   "metadata": {},
   "source": [
    "### When to use each package"
   ]
  },
  {
   "cell_type": "markdown",
   "metadata": {},
   "source": [
    "`matplotlib`:\n",
    "- Versatile (basic and complex plots)\n",
    "- Foundation of using other packages\n",
    "- Lengthy syntax\n",
    "- Ideal for customization\n",
    "- Not ideal for presentation and publication\n",
    "\n",
    "`pandas`:\n",
    "- Plot basic plots\n",
    "- Handy to use for Exploratory Data Analysis (EDA)\n",
    "- Well connected with `pandas`\n",
    "- Not ideal for custimization\n",
    "\n",
    "`seaborn`:\n",
    "- Easier for complex plots \n",
    "- Shorter syntax\n",
    "- Require knowledge of reading documentation\n",
    "- Well connected with `pandas`\n",
    "- Ideal for customization and presentation"
   ]
  },
  {
   "cell_type": "code",
   "execution_count": 4,
   "metadata": {},
   "outputs": [],
   "source": [
    "%matplotlib inline"
   ]
  },
  {
   "cell_type": "markdown",
   "metadata": {},
   "source": [
    "💡 **Tip**: One of the nice features of Jupyter notebooks is that figures can be plotted inline, which means they appear below the code cell that creates them. This is not the default behavior however, and so we'll use the below **\"Magic\"** statement (these statements are added to solve simple problems) to tell the Jupyter notebook to plot the figures inline (instead of opening a separate browser window to show them)."
   ]
  },
  {
   "cell_type": "markdown",
   "metadata": {},
   "source": [
    "### Import the Data Set"
   ]
  },
  {
   "cell_type": "markdown",
   "metadata": {},
   "source": [
    "We've decided to use the so-called Gapminder dataset, which was compiled by Jennifer Bryan. This dataset contains several key demographic and economic statistics for many countries, across many years. For more information, see the [gapminder](https://github.com/jennybc/gapminder) repository.\n",
    "\n",
    "We'll use the `pandas` Python package to load the `.csv` (**c**omma **s**eparated **v**alues) file that contains the dataset. The `pandas` package provides `DataFrame` objects that organize datasets in tabular form. To read in a `.csv` file we simply use the function `pd.read_csv()`. This `.csv` file happens to be tab-delimited, so we need to specify `sep=\\t`."
   ]
  },
  {
   "cell_type": "code",
   "execution_count": 5,
   "metadata": {},
   "outputs": [],
   "source": [
    "gm = pd.read_csv('../data/gapminder.tsv', sep='\\t')"
   ]
  },
  {
   "cell_type": "markdown",
   "metadata": {},
   "source": [
    "To look at the first few rows of the dataset, we will use the `.head()` method of the dataframe."
   ]
  },
  {
   "cell_type": "code",
   "execution_count": 6,
   "metadata": {},
   "outputs": [
    {
     "data": {
      "text/html": [
       "<div>\n",
       "<style scoped>\n",
       "    .dataframe tbody tr th:only-of-type {\n",
       "        vertical-align: middle;\n",
       "    }\n",
       "\n",
       "    .dataframe tbody tr th {\n",
       "        vertical-align: top;\n",
       "    }\n",
       "\n",
       "    .dataframe thead th {\n",
       "        text-align: right;\n",
       "    }\n",
       "</style>\n",
       "<table border=\"1\" class=\"dataframe\">\n",
       "  <thead>\n",
       "    <tr style=\"text-align: right;\">\n",
       "      <th></th>\n",
       "      <th>country</th>\n",
       "      <th>continent</th>\n",
       "      <th>year</th>\n",
       "      <th>lifeExp</th>\n",
       "      <th>pop</th>\n",
       "      <th>gdpPercap</th>\n",
       "    </tr>\n",
       "  </thead>\n",
       "  <tbody>\n",
       "    <tr>\n",
       "      <th>0</th>\n",
       "      <td>Afghanistan</td>\n",
       "      <td>Asia</td>\n",
       "      <td>1952</td>\n",
       "      <td>28.801</td>\n",
       "      <td>8425333.0</td>\n",
       "      <td>779.445314</td>\n",
       "    </tr>\n",
       "    <tr>\n",
       "      <th>1</th>\n",
       "      <td>Afghanistan</td>\n",
       "      <td>Asia</td>\n",
       "      <td>1957</td>\n",
       "      <td>30.332</td>\n",
       "      <td>9240934.0</td>\n",
       "      <td>820.853030</td>\n",
       "    </tr>\n",
       "    <tr>\n",
       "      <th>2</th>\n",
       "      <td>Afghanistan</td>\n",
       "      <td>Asia</td>\n",
       "      <td>1962</td>\n",
       "      <td>31.997</td>\n",
       "      <td>10267083.0</td>\n",
       "      <td>853.100710</td>\n",
       "    </tr>\n",
       "    <tr>\n",
       "      <th>3</th>\n",
       "      <td>Afghanistan</td>\n",
       "      <td>Asia</td>\n",
       "      <td>1967</td>\n",
       "      <td>34.020</td>\n",
       "      <td>11537966.0</td>\n",
       "      <td>836.197138</td>\n",
       "    </tr>\n",
       "    <tr>\n",
       "      <th>4</th>\n",
       "      <td>Afghanistan</td>\n",
       "      <td>Asia</td>\n",
       "      <td>1972</td>\n",
       "      <td>36.088</td>\n",
       "      <td>13079460.0</td>\n",
       "      <td>739.981106</td>\n",
       "    </tr>\n",
       "  </tbody>\n",
       "</table>\n",
       "</div>"
      ],
      "text/plain": [
       "       country continent  year  lifeExp         pop   gdpPercap\n",
       "0  Afghanistan      Asia  1952   28.801   8425333.0  779.445314\n",
       "1  Afghanistan      Asia  1957   30.332   9240934.0  820.853030\n",
       "2  Afghanistan      Asia  1962   31.997  10267083.0  853.100710\n",
       "3  Afghanistan      Asia  1967   34.020  11537966.0  836.197138\n",
       "4  Afghanistan      Asia  1972   36.088  13079460.0  739.981106"
      ]
     },
     "execution_count": 6,
     "metadata": {},
     "output_type": "execute_result"
    }
   ],
   "source": [
    "gm.head()"
   ]
  },
  {
   "cell_type": "markdown",
   "metadata": {},
   "source": [
    "It looks like we have information about life expectancy (`lifeExp`), population (`pop`) and per-capita GDP (`gdpPercap`), across multiple years per country. \n",
    "\n",
    "To start off, let's say we want to explore the data from the most recent year in the dataset. First we'll find the maximum value for year, and then create a second `DataFrame` containing data from only that year. We'll do that using Boolean Masking (for an introduction on how to use `pandas`, see the D-lab's [Python Data Wrangling](https://github.com/dlab-berkeley/introduction-to-pandas))."
   ]
  },
  {
   "cell_type": "code",
   "execution_count": 7,
   "metadata": {},
   "outputs": [
    {
     "data": {
      "text/plain": [
       "2007"
      ]
     },
     "execution_count": 7,
     "metadata": {},
     "output_type": "execute_result"
    }
   ],
   "source": [
    "latest_year = gm['year'].max()\n",
    "latest_year"
   ]
  },
  {
   "cell_type": "code",
   "execution_count": 8,
   "metadata": {},
   "outputs": [
    {
     "data": {
      "text/html": [
       "<div>\n",
       "<style scoped>\n",
       "    .dataframe tbody tr th:only-of-type {\n",
       "        vertical-align: middle;\n",
       "    }\n",
       "\n",
       "    .dataframe tbody tr th {\n",
       "        vertical-align: top;\n",
       "    }\n",
       "\n",
       "    .dataframe thead th {\n",
       "        text-align: right;\n",
       "    }\n",
       "</style>\n",
       "<table border=\"1\" class=\"dataframe\">\n",
       "  <thead>\n",
       "    <tr style=\"text-align: right;\">\n",
       "      <th></th>\n",
       "      <th>country</th>\n",
       "      <th>continent</th>\n",
       "      <th>year</th>\n",
       "      <th>lifeExp</th>\n",
       "      <th>pop</th>\n",
       "      <th>gdpPercap</th>\n",
       "    </tr>\n",
       "  </thead>\n",
       "  <tbody>\n",
       "    <tr>\n",
       "      <th>11</th>\n",
       "      <td>Afghanistan</td>\n",
       "      <td>Asia</td>\n",
       "      <td>2007</td>\n",
       "      <td>43.828</td>\n",
       "      <td>31889923.0</td>\n",
       "      <td>974.580338</td>\n",
       "    </tr>\n",
       "    <tr>\n",
       "      <th>23</th>\n",
       "      <td>Albania</td>\n",
       "      <td>Europe</td>\n",
       "      <td>2007</td>\n",
       "      <td>76.423</td>\n",
       "      <td>3600523.0</td>\n",
       "      <td>5937.029526</td>\n",
       "    </tr>\n",
       "    <tr>\n",
       "      <th>35</th>\n",
       "      <td>Algeria</td>\n",
       "      <td>Africa</td>\n",
       "      <td>2007</td>\n",
       "      <td>72.301</td>\n",
       "      <td>33333216.0</td>\n",
       "      <td>6223.367465</td>\n",
       "    </tr>\n",
       "    <tr>\n",
       "      <th>47</th>\n",
       "      <td>Angola</td>\n",
       "      <td>Africa</td>\n",
       "      <td>2007</td>\n",
       "      <td>42.731</td>\n",
       "      <td>12420476.0</td>\n",
       "      <td>4797.231267</td>\n",
       "    </tr>\n",
       "    <tr>\n",
       "      <th>59</th>\n",
       "      <td>Argentina</td>\n",
       "      <td>Americas</td>\n",
       "      <td>2007</td>\n",
       "      <td>75.320</td>\n",
       "      <td>40301927.0</td>\n",
       "      <td>12779.379640</td>\n",
       "    </tr>\n",
       "  </tbody>\n",
       "</table>\n",
       "</div>"
      ],
      "text/plain": [
       "        country continent  year  lifeExp         pop     gdpPercap\n",
       "11  Afghanistan      Asia  2007   43.828  31889923.0    974.580338\n",
       "23      Albania    Europe  2007   76.423   3600523.0   5937.029526\n",
       "35      Algeria    Africa  2007   72.301  33333216.0   6223.367465\n",
       "47       Angola    Africa  2007   42.731  12420476.0   4797.231267\n",
       "59    Argentina  Americas  2007   75.320  40301927.0  12779.379640"
      ]
     },
     "execution_count": 8,
     "metadata": {},
     "output_type": "execute_result"
    }
   ],
   "source": [
    "gm_latest = gm[gm['year'] == latest_year]\n",
    "gm_latest.head()"
   ]
  },
  {
   "cell_type": "code",
   "execution_count": 9,
   "metadata": {},
   "outputs": [
    {
     "data": {
      "text/plain": [
       "(142, 6)"
      ]
     },
     "execution_count": 9,
     "metadata": {},
     "output_type": "execute_result"
    }
   ],
   "source": [
    "gm_latest.shape"
   ]
  },
  {
   "cell_type": "markdown",
   "metadata": {},
   "source": [
    "Ok, looks like we have 142 values, or rows, across our 6 variables, or columns."
   ]
  },
  {
   "cell_type": "markdown",
   "metadata": {},
   "source": [
    "💡 **Tip**: A method is written with parenteses: e.g. `gm_latest['year'].max()`. An attribute is written without parentheses: e.g. `gap.shape`."
   ]
  },
  {
   "cell_type": "markdown",
   "metadata": {},
   "source": [
    "Let's get an idea of how per-capita GDP was distributed across all of the countries during 2007 by calculating some **summary statistics**. We'll do that using the `.describe()` method."
   ]
  },
  {
   "cell_type": "code",
   "execution_count": 10,
   "metadata": {},
   "outputs": [
    {
     "data": {
      "text/plain": [
       "count      142.000000\n",
       "mean     11680.071820\n",
       "std      12859.937337\n",
       "min        277.551859\n",
       "25%       1624.842248\n",
       "50%       6124.371108\n",
       "75%      18008.835640\n",
       "max      49357.190170\n",
       "Name: gdpPercap, dtype: float64"
      ]
     },
     "execution_count": 10,
     "metadata": {},
     "output_type": "execute_result"
    }
   ],
   "source": [
    "gm_latest['gdpPercap'].describe()"
   ]
  },
  {
   "cell_type": "markdown",
   "metadata": {},
   "source": [
    "Across 142 countries the mean GDP was ~\\\\$11680, and the standard deviation was ~\\\\$12860! There was a lot of deviation in GDP across countries, but these summary statistics don't give us the whole picture. To get the whole picture, let's draw a picture! Or plot a figure, more accurately."
   ]
  },
  {
   "cell_type": "markdown",
   "metadata": {},
   "source": [
    "<a id='section3'></a>\n",
    "\n",
    "# Histogram"
   ]
  },
  {
   "cell_type": "markdown",
   "metadata": {},
   "source": [
    "## Basic Syntax and Main Ingredients"
   ]
  },
  {
   "cell_type": "markdown",
   "metadata": {},
   "source": [
    "In this section, we'll explore the basic syntax of three plotting libraries, using **histograms** as a starting point. \n",
    "\n",
    "Histograms plot a discretized distribution of a one-dimensional dataset across all the values it has taken. They visualize how many of the data points are in each of $b$ bins, each of which has a pre-defined range. The GDP data is a perfect starting point for us to try out histograms as we'll be able to visualize the distribution of GDP across countries. "
   ]
  },
  {
   "cell_type": "markdown",
   "metadata": {},
   "source": [
    "## `matplotlib`"
   ]
  },
  {
   "cell_type": "markdown",
   "metadata": {},
   "source": [
    "Syntax: call the **library** (`plt`), followed by the **plot type**: (`.hist()`): `plt.hist()`\n",
    "\n",
    "Let's take a look at the [documentation](https://matplotlib.org/stable/api/_as_gen/matplotlib.pyplot.hist.html) for `plt.hist()` together. The input value that the function takes should be an array, so we pass in the `gdpPercap` column to the function. As a generic plotting method, the function `plt.hist()` itself is not specific to the data we are plotting, so we need to pass in the data we want to plot."
   ]
  },
  {
   "cell_type": "code",
   "execution_count": 11,
   "metadata": {},
   "outputs": [
    {
     "data": {
      "image/png": "[encoded data removed]",
      "text/plain": [
       "<Figure size 432x288 with 1 Axes>"
      ]
     },
     "metadata": {
      "needs_background": "light"
     },
     "output_type": "display_data"
    }
   ],
   "source": [
    "plt.hist(gm_latest['gdpPercap']);"
   ]
  },
  {
   "cell_type": "markdown",
   "metadata": {},
   "source": [
    "💡 **Tip**: Use a semicolon (`;`) at the end of the last line in a Jupyter notebook cell to suppress the notebooks from printing the return value of the last line. This was done in the above cell. Try removing the `;` to see how the output changes."
   ]
  },
  {
   "cell_type": "markdown",
   "metadata": {},
   "source": [
    "Each line in the histogram represents a bin. The height of the line corresponds to the number of items (countries in this case) within the range of values covered by the bin. In the previous plots, we used the default number of bins (10). Now, let's increase the number of bins by specifying the `bins=30` parameter."
   ]
  },
  {
   "cell_type": "code",
   "execution_count": 12,
   "metadata": {},
   "outputs": [
    {
     "data": {
      "image/png": "[encoded data removed]",
      "text/plain": [
       "<Figure size 432x288 with 1 Axes>"
      ]
     },
     "metadata": {
      "needs_background": "light"
     },
     "output_type": "display_data"
    }
   ],
   "source": [
    "plt.hist(gm_latest['gdpPercap'], bins=30);"
   ]
  },
  {
   "cell_type": "markdown",
   "metadata": {},
   "source": [
    "This histogram tells us that many of the countries had a low GDP, which was less than 5,000. There is also a second \"bump\" in the histogram around 30,000. This type of distribution is known as **bi-modal**, since there are two modes, or common values.\n",
    "\n",
    "To make this histogram more interpretable let's add a title and labels for the x and y axes. We'll pass strings to `plt.title()`, `plt.xlabel()`, and `plt.ylabel()` to do so."
   ]
  },
  {
   "cell_type": "code",
   "execution_count": 13,
   "metadata": {},
   "outputs": [
    {
     "data": {
      "image/png": "[encoded data removed]",
      "text/plain": [
       "<Figure size 432x288 with 1 Axes>"
      ]
     },
     "metadata": {
      "needs_background": "light"
     },
     "output_type": "display_data"
    }
   ],
   "source": [
    "plt.hist(gm_latest['gdpPercap'], bins=30)\n",
    "plt.title('Distribution of Global Per-Capita GDP in 2007')\n",
    "plt.xlabel('Per-Capita GDP (International Dollars)')\n",
    "plt.ylabel('# of Countries');"
   ]
  },
  {
   "cell_type": "markdown",
   "metadata": {},
   "source": [
    "## `pandas`"
   ]
  },
  {
   "cell_type": "markdown",
   "metadata": {},
   "source": [
    "Syntax: call the **dataframe** (`gm_latest`), followed by the plot type (`.hist()`): `gm_latest.hist()`\n",
    "\n",
    "Let's take a look at [documentation](https://pandas.pydata.org/docs/reference/api/pandas.DataFrame.hist.html) of `pd.hist()`. The required input value is a column of a dataframe. We no longer need to select the column using square brackets; instead, we simply pass the name of the column to the column parameter. This highlights how `pandas` differs from `matplotlib`. The function `pd.hist()` is not intended to be a generic plotting method; rather, it is specific to the dataframe where the data comes from. "
   ]
  },
  {
   "cell_type": "code",
   "execution_count": 14,
   "metadata": {},
   "outputs": [
    {
     "data": {
      "image/png": "[encoded data removed]",
      "text/plain": [
       "<Figure size 432x288 with 1 Axes>"
      ]
     },
     "metadata": {
      "needs_background": "light"
     },
     "output_type": "display_data"
    }
   ],
   "source": [
    "gm_latest.hist(column='gdpPercap');"
   ]
  },
  {
   "cell_type": "markdown",
   "metadata": {},
   "source": [
    "We can remove the grid by specifying `grid=False`; to make the plot complete, let's add the title and labels. "
   ]
  },
  {
   "cell_type": "code",
   "execution_count": 15,
   "metadata": {},
   "outputs": [
    {
     "data": {
      "image/png": "[encoded data removed]",
      "text/plain": [
       "<Figure size 432x288 with 1 Axes>"
      ]
     },
     "metadata": {
      "needs_background": "light"
     },
     "output_type": "display_data"
    }
   ],
   "source": [
    "gm_latest.hist(column='gdpPercap', bins=30, grid=False)\n",
    "plt.title('Distribution of Global Per-Capita GDP in 2007')\n",
    "plt.xlabel('Per-Capita GDP (International Dollars)')\n",
    "plt.ylabel('# of Countries');"
   ]
  },
  {
   "cell_type": "markdown",
   "metadata": {},
   "source": [
    "## `seaborn`"
   ]
  },
  {
   "cell_type": "markdown",
   "metadata": {},
   "source": [
    "Syntax: call the **library** (`sns`), followed by the plot type (`.histplot()`): `sns.histplot()`\n",
    "\n",
    "Let's check out the [documentation](https://seaborn.pydata.org/generated/seaborn.histplot.html) of `sns.histplot()`. A `seaborn` plotting function typically requires two things: the dataframe and the specific subset of the data we want to plot. In this case, we pass `gm_latest` to the `data` parameter to indicate that the GDP data we want to plot comes from the `gm_latest` dataframe. We then specify `x='gdpPercap'` to indicate that the column we want to plot is `gdpPercap`. Now you can see that `sns.histplot()` is still a generic plotting function, but it integrates well with `pandas`. "
   ]
  },
  {
   "cell_type": "code",
   "execution_count": 15,
   "metadata": {},
   "outputs": [
    {
     "data": {
      "image/png": "[encoded data removed]",
      "text/plain": [
       "<Figure size 432x288 with 1 Axes>"
      ]
     },
     "metadata": {
      "needs_background": "light"
     },
     "output_type": "display_data"
    }
   ],
   "source": [
    "sns.histplot(data=gm_latest, x='gdpPercap');"
   ]
  },
  {
   "cell_type": "markdown",
   "metadata": {},
   "source": [
    "🔔 **Question**: Is there someting that is not in the histogram created by `plt.hist`?"
   ]
  },
  {
   "cell_type": "markdown",
   "metadata": {},
   "source": [
    "We can of course change the labels, still using the `plt` function calls as above."
   ]
  },
  {
   "cell_type": "code",
   "execution_count": 17,
   "metadata": {},
   "outputs": [
    {
     "data": {
      "image/png": "[encoded data removed]",
      "text/plain": [
       "<Figure size 432x288 with 1 Axes>"
      ]
     },
     "metadata": {
      "needs_background": "light"
     },
     "output_type": "display_data"
    }
   ],
   "source": [
    "sns.histplot(data=gm_latest, x='gdpPercap', bins=30)\n",
    "plt.title('Distribution of Global Per-Capita GDP in 2007')\n",
    "plt.xlabel('Per-Capita GDP (International Dollars)')\n",
    "plt.ylabel('# of Countries');"
   ]
  },
  {
   "cell_type": "markdown",
   "metadata": {},
   "source": [
    "Now we have known the basic syntax of each plotting library. What's your favourite one? \n",
    "\n",
    "Throughout the rest of the workshop, we will mainly use `seaborn` to visualize all kinds of plots. Importantly, it should be noted that `seaborn` is built on top of `matplotlib`; behind the scene, `seaborn` uses matplotlib to draw plots but it provides users a high-level interface that is easier to learn and interact.  "
   ]
  },
  {
   "cell_type": "markdown",
   "metadata": {},
   "source": [
    "## Kernal Density Plot"
   ]
  },
  {
   "cell_type": "markdown",
   "metadata": {},
   "source": [
    "Histograms represent the distribution with discrete bins. A similar method is called Kernel Density Plot (KDE), which visualizes the distribution with a continuous probability density curve. KDE can be plotted independently; quite frequently, it is overlaid with histograms. In Seaborn, achieving this is straightforward by enabling the `kde` parameter and simply setting it to `True`."
   ]
  },
  {
   "cell_type": "code",
   "execution_count": 18,
   "metadata": {},
   "outputs": [
    {
     "data": {
      "image/png": "[encoded data removed]",
      "text/plain": [
       "<Figure size 432x288 with 1 Axes>"
      ]
     },
     "metadata": {
      "needs_background": "light"
     },
     "output_type": "display_data"
    }
   ],
   "source": [
    "sns.histplot(data=gm_latest, \n",
    "             x='gdpPercap', \n",
    "             bins=30, \n",
    "             kde=True)\n",
    "plt.title('Distribution of Global Per-Capita GDP in 2007')\n",
    "plt.xlabel('Per-Capita GDP (International Dollars)')\n",
    "plt.ylabel('# of Countries');"
   ]
  },
  {
   "cell_type": "markdown",
   "metadata": {},
   "source": [
    "## Data Transformation"
   ]
  },
  {
   "cell_type": "markdown",
   "metadata": {},
   "source": [
    "The above histograms plot the distribution of GDP of all countries. Let's take a closer look at the data of a continent, taking Asia and Africa as examples. \n",
    "\n",
    "Again, we use Boolean Masking to pass in the criterion of selection `gm['continent'] == Asia` to get the data from Asian contries only. Let's save it to a new variable called `asia`. \n",
    "\n",
    "We repeat the same steps to subselect data from African countries, passing it to a new variable `africa`. "
   ]
  },
  {
   "cell_type": "code",
   "execution_count": 19,
   "metadata": {},
   "outputs": [],
   "source": [
    "asia = gm.loc[(gm['continent'] == 'Asia')]\n",
    "africa = gm.loc[(gm['continent'] == 'Africa')]"
   ]
  },
  {
   "cell_type": "markdown",
   "metadata": {},
   "source": [
    "To plot the distribution of GDP of all Asian countries, we use histograms! For now, let's stick with `sns.histplot()`."
   ]
  },
  {
   "cell_type": "code",
   "execution_count": 20,
   "metadata": {},
   "outputs": [
    {
     "data": {
      "image/png": "[encoded data removed]",
      "text/plain": [
       "<Figure size 432x288 with 1 Axes>"
      ]
     },
     "metadata": {
      "needs_background": "light"
     },
     "output_type": "display_data"
    }
   ],
   "source": [
    "sns.histplot(data=asia, \n",
    "             x='gdpPercap', \n",
    "             bins=30,\n",
    "             kde=True)\n",
    "plt.title('Distribution of Per-Capita GDP of Asian Countries')\n",
    "plt.xlabel('Per-Capita GDP (International Dollars)')\n",
    "plt.ylabel('# of Countries');"
   ]
  },
  {
   "cell_type": "markdown",
   "metadata": {},
   "source": [
    "It looks like most of the countries have a low GDP. The distribution is heavily skewed. Top deal with a skewed distribution like this, the convention is to transform the data so that the distribution is likely to follow a normal distribution, which is the foundation of make subsequent statistical analysis. \n",
    "\n",
    "Log transformation is often performed to remove skewness. To plot the log-transformed distribution, there is no need to actually perform the transformation. The seabon function `sns.histplot()` already comes with a handy parameter `log_scale`. We can pass `log_scale=True` to indicate that we want the distribution to be plotted on the log scale. \n",
    "\n",
    "Don't forget to revise the x-label, which now represents log-transformed GDP instead of raw GDP data. "
   ]
  },
  {
   "cell_type": "code",
   "execution_count": 21,
   "metadata": {},
   "outputs": [
    {
     "data": {
      "image/png": "[encoded data removed]",
      "text/plain": [
       "<Figure size 432x288 with 1 Axes>"
      ]
     },
     "metadata": {
      "needs_background": "light"
     },
     "output_type": "display_data"
    }
   ],
   "source": [
    "sns.histplot(data=asia, \n",
    "             x='gdpPercap', \n",
    "             bins=30,\n",
    "             kde=True, \n",
    "             log_scale=True)\n",
    "plt.title('Distribution of Per-Capita GDP of Asian Countries')\n",
    "plt.xlabel('Log-transformed Per-Capita GDP (International Dollars)')\n",
    "plt.ylabel('# of Countries');"
   ]
  },
  {
   "cell_type": "markdown",
   "metadata": {},
   "source": [
    "We can recycle the above code and plot the log-transformed GDP data of African countries. \n",
    "\n",
    "To make the distinction even clearer, we can change the color of distribution, simply specifying `color=\"darkorange\"`, also see [here](https://matplotlib.org/stable/gallery/color/named_colors.html) for a list of accepted color names. "
   ]
  },
  {
   "cell_type": "code",
   "execution_count": 22,
   "metadata": {},
   "outputs": [
    {
     "data": {
      "image/png": "[encoded data removed]",
      "text/plain": [
       "<Figure size 432x288 with 1 Axes>"
      ]
     },
     "metadata": {
      "needs_background": "light"
     },
     "output_type": "display_data"
    }
   ],
   "source": [
    "sns.histplot(data=africa, \n",
    "             x='gdpPercap', \n",
    "             bins=30,\n",
    "             kde=True, \n",
    "             log_scale=True,\n",
    "             color='darkorange')\n",
    "plt.title('Distribution of Per-Capita GDP of Asian Countries')\n",
    "plt.xlabel('Log-transformed Per-Capita GDP (International Dollars)')\n",
    "plt.ylabel('# of Countries');"
   ]
  },
  {
   "cell_type": "markdown",
   "metadata": {
    "tags": []
   },
   "source": [
    "## 🥊 Challenge 1: Find the Parameter\n",
    "\n",
    "Now we have the GDP distribution of two continents in two separate plots. Note that the y-axes are not on the same scale. To have a more informative comparison of these two distributions, it's better to have them in the same plot. \n",
    "\n",
    "The `sns.histplot()` function has a parameter that can help us do that! Spend some time reading the [documentation](https://seaborn.pydata.org/generated/seaborn.histplot.html) of `sns.histplot()`, find the parameter that does that job and plot the distributions!\n",
    "\n",
    "The data is ready for you to use. The `gm_subset` is a subset of the gapminder dataset, only including data from Asian and African countries. "
   ]
  },
  {
   "cell_type": "code",
   "execution_count": 16,
   "metadata": {},
   "outputs": [],
   "source": [
    "# starter code \n",
    "gm_subset = gm.loc[(gm['continent'] == 'Asia') | (gm['continent'] == 'Africa')]"
   ]
  },
  {
   "cell_type": "code",
   "execution_count": 24,
   "metadata": {},
   "outputs": [],
   "source": [
    "\n",
    "# YOUR CODE HERE\n"
   ]
  },
  {
   "cell_type": "markdown",
   "metadata": {},
   "source": [
    "<a id='section4'></a>\n",
    "\n",
    "# Bar Plot"
   ]
  },
  {
   "cell_type": "markdown",
   "metadata": {},
   "source": [
    "The histograms we just learned are representations of one-dimentional, continuous data. If our data has categories or levels in nature, it's best to visualize them using bar plots. \n",
    "\n",
    "Bar plots are most commonly used to compare values of different groups; in other words, for each group, we have one single value (i.e. measure) to be compared with.\n"
   ]
  },
  {
   "cell_type": "markdown",
   "metadata": {},
   "source": [
    "## Single measure"
   ]
  },
  {
   "cell_type": "markdown",
   "metadata": {},
   "source": [
    "We can plot the number of countries per continent, which gives us one value for each group (i.e. continent).\n",
    "\n",
    "We can of course take a look at the original `gm` dataset; for the purpose of simplicity, let's stick to the `gm_latest` dataset, thus taking a look at how many countries per continent was included in the year of 2007. \n",
    "\n",
    "We use the pandas `.groupby()` method to group the data by different continents, and then count the number of countries in each continent. The result itself is a pandas series, which we assign to the `count` variable. "
   ]
  },
  {
   "cell_type": "code",
   "execution_count": 17,
   "metadata": {},
   "outputs": [],
   "source": [
    "count = gm_latest.groupby('continent')['country'].count()"
   ]
  },
  {
   "cell_type": "markdown",
   "metadata": {},
   "source": [
    "Let's take a look at first five rows of `count`."
   ]
  },
  {
   "cell_type": "code",
   "execution_count": 27,
   "metadata": {},
   "outputs": [
    {
     "data": {
      "text/plain": [
       "continent\n",
       "Africa      52\n",
       "Americas    25\n",
       "Asia        33\n",
       "Europe      30\n",
       "Oceania      2\n",
       "Name: country, dtype: int64"
      ]
     },
     "execution_count": 27,
     "metadata": {},
     "output_type": "execute_result"
    }
   ],
   "source": [
    "count.head()"
   ]
  },
  {
   "cell_type": "markdown",
   "metadata": {},
   "source": [
    "Now we have the data ready. The next step is to plot it with `seaborn`. \n",
    "\n",
    "Let's check the [documentation](https://seaborn.pydata.org/generated/seaborn.barplot.html) of `sns.barplot`, which says that the function requires two parameters—`x` and `y`. On the x-axis, we want to plot the name of each continent; on the y-axis, we want the height of bars to represent the number of countries.\n",
    "\n",
    "The index of `count` is exactly names of continents, which we can get by accessing the `.index` attribute of `count`."
   ]
  },
  {
   "cell_type": "code",
   "execution_count": 28,
   "metadata": {},
   "outputs": [
    {
     "data": {
      "text/plain": [
       "Index(['Africa', 'Americas', 'Asia', 'Europe', 'Oceania'], dtype='object', name='continent')"
      ]
     },
     "execution_count": 28,
     "metadata": {},
     "output_type": "execute_result"
    }
   ],
   "source": [
    "count.index"
   ]
  },
  {
   "cell_type": "markdown",
   "metadata": {},
   "source": [
    "Similarly, the values attribute give us the number of countries. "
   ]
  },
  {
   "cell_type": "code",
   "execution_count": 29,
   "metadata": {},
   "outputs": [
    {
     "data": {
      "text/plain": [
       "array([52, 25, 33, 30,  2])"
      ]
     },
     "execution_count": 29,
     "metadata": {},
     "output_type": "execute_result"
    }
   ],
   "source": [
    "count.values"
   ]
  },
  {
   "cell_type": "markdown",
   "metadata": {},
   "source": [
    "Let's pass in our `x` and `y` parameters. To adjust the order of bars, we simply pass in a list that orders the continent correctly. \n",
    "\n",
    "Note that `seaborn` automatically color-code the continent, assigning each one a unique color. "
   ]
  },
  {
   "cell_type": "code",
   "execution_count": 30,
   "metadata": {},
   "outputs": [
    {
     "data": {
      "image/png": "[encoded data removed]",
      "text/plain": [
       "<Figure size 432x288 with 1 Axes>"
      ]
     },
     "metadata": {
      "needs_background": "light"
     },
     "output_type": "display_data"
    }
   ],
   "source": [
    "sns.barplot(x=count.index, \n",
    "            y=count.values, \n",
    "            order=['Africa', 'Americas', 'Asia', 'Europe', 'Oceania'])\n",
    "plt.title('Number of Countries Per Continent in 2007')\n",
    "plt.xlabel('Continents')\n",
    "plt.ylabel('# of Countries');"
   ]
  },
  {
   "cell_type": "markdown",
   "metadata": {},
   "source": [
    "## Repeated measures"
   ]
  },
  {
   "cell_type": "markdown",
   "metadata": {},
   "source": [
    "Now we have a bar plot that visualizes the number of countries in each continent for the year 2007. Now, imagine another bar plot where, instead of representing the number of countries, the height of each bar corresponds to the GDP of a country within that continent. In this scenario, for each group (continent), we encounter multiple measurements (various GDP values). This is precisely the concept of \"repeated measures.\"\n",
    "\n",
    "You might ask, how do we visualize multiple GDP values per group? Let's dive into the [documentation](https://seaborn.pydata.org/generated/seaborn.barplot.html) again and see how do we resolve the problem!\n",
    "\n",
    "Now, the height of the bar does not correspond to GDP value of any specific country. It represents the mean GDP of that continent, aggregating the GDP data of all countries of that continent. \n",
    "\n",
    "🔔 **Question**: What does the vertical bar represent?"
   ]
  },
  {
   "cell_type": "code",
   "execution_count": 31,
   "metadata": {},
   "outputs": [
    {
     "data": {
      "image/png": "[encoded data removed]",
      "text/plain": [
       "<Figure size 432x288 with 1 Axes>"
      ]
     },
     "metadata": {
      "needs_background": "light"
     },
     "output_type": "display_data"
    }
   ],
   "source": [
    "sns.barplot(data=gm_latest, \n",
    "            x=\"continent\", \n",
    "            y=\"gdpPercap\",\n",
    "            order=['Africa', 'Americas', 'Asia', 'Europe', 'Oceania'])\n",
    "plt.title('Estimated Per-Capita GDP Per Continent')\n",
    "plt.xlabel('Continents')\n",
    "plt.ylabel('Per-Capita GDP (International Dollars)');"
   ]
  },
  {
   "cell_type": "markdown",
   "metadata": {},
   "source": [
    "## 🥊 Challenge 2: Compare GDP Growth\n",
    "\n",
    "For the barplot shown above, we plotted the mean GDP of the year 2007. What if we want to compare the data from 1952 and 2007? Spend some time reading the [documentation](https://seaborn.pydata.org/generated/seaborn.barplot.html), and find out what is the parameter that is used as a group/level indicator.\n",
    "\n",
    "The data is ready for you to use. The `gm_year` is a subset of the gapminder dataset, only including data from 1952 and 2007."
   ]
  },
  {
   "cell_type": "code",
   "execution_count": 32,
   "metadata": {},
   "outputs": [],
   "source": [
    "# starter code\n",
    "gm_year = gm[(gm['year'] == 2007) | (gm['year'] == 1952)]"
   ]
  },
  {
   "cell_type": "code",
   "execution_count": 33,
   "metadata": {},
   "outputs": [],
   "source": [
    "\n",
    "# YOUR CODE HERE\n"
   ]
  },
  {
   "cell_type": "markdown",
   "metadata": {},
   "source": [
    "<a id='section5'></a>\n",
    "\n",
    "# Box Plot"
   ]
  },
  {
   "cell_type": "markdown",
   "metadata": {},
   "source": [
    "Now that we know we've seen how GDP was distributed during 2007, and how many countries are in each continent, we might want to know how GDP is distributed within each continent. While we could plot 5 histograms, we can also take advantage of a useful type of plot for just this purpose, a **boxplot**."
   ]
  },
  {
   "cell_type": "markdown",
   "metadata": {},
   "source": [
    "<img src=\"../images/boxplot.png\"  width=\"70%\" height=\"40%\">"
   ]
  },
  {
   "cell_type": "markdown",
   "metadata": {},
   "source": [
    "The above graph is a handy decomposition of a boxplot. The boxplot describes the locality (i.e. median), range (from Q1 to Q3), spread (the two whiskers extending from the box), and extreme values (outliers that are further away from the upper and lower bounds). \n",
    "\n",
    "Note that a single box plot is to visualize the distribution of a single dimension data, for instance, the distribution of GDP of Asian countries. \n",
    "\n",
    "If we want to show the distribution of countries across five different continents? How to do that?\n",
    "\n",
    "Let's take a look at the [documentation](https://seaborn.pydata.org/generated/seaborn.boxplot.html) of `sns.boxplot`. \n",
    "\n",
    "Typically, on the x-axis, we want to show information of groups, i.e. continents; and on the y-axis, we want to show the distribution of data we are interested--GDP. "
   ]
  },
  {
   "cell_type": "code",
   "execution_count": 35,
   "metadata": {},
   "outputs": [
    {
     "data": {
      "image/png": "[encoded data removed]",
      "text/plain": [
       "<Figure size 432x288 with 1 Axes>"
      ]
     },
     "metadata": {
      "needs_background": "light"
     },
     "output_type": "display_data"
    }
   ],
   "source": [
    "sns.boxplot(data=gm_latest, x='continent', y='gdpPercap');"
   ]
  },
  {
   "cell_type": "markdown",
   "metadata": {},
   "source": [
    "The `order` parameter changes the order of the groups on the x-axis. It takes in a list of strings, which store the categorical levels. \n",
    "\n",
    "Let's rearrange the order of continents. "
   ]
  },
  {
   "cell_type": "code",
   "execution_count": 36,
   "metadata": {},
   "outputs": [
    {
     "data": {
      "image/png": "[encoded data removed]",
      "text/plain": [
       "<Figure size 432x288 with 1 Axes>"
      ]
     },
     "metadata": {
      "needs_background": "light"
     },
     "output_type": "display_data"
    }
   ],
   "source": [
    "sns.boxplot(data=gm_latest, \n",
    "            x='continent', \n",
    "            y='gdpPercap',\n",
    "            order=['Africa', 'Americas', 'Asia', 'Europe', 'Oceania'])\n",
    "plt.title('Per-Capita GDP Distributions Per Continent', fontsize=12)\n",
    "plt.xlabel('Continents')\n",
    "plt.ylabel('Per-Capita GDP (International Dollars)');"
   ]
  },
  {
   "cell_type": "markdown",
   "metadata": {},
   "source": [
    "We can also change asthetics of the plot. To name a few, we can change line width, box width, the colors of the boxs, as well as the size of the flier. "
   ]
  },
  {
   "cell_type": "code",
   "execution_count": 37,
   "metadata": {},
   "outputs": [
    {
     "data": {
      "image/png": "[encoded data removed]",
      "text/plain": [
       "<Figure size 432x288 with 1 Axes>"
      ]
     },
     "metadata": {
      "needs_background": "light"
     },
     "output_type": "display_data"
    }
   ],
   "source": [
    "sns.boxplot(data=gm_latest, \n",
    "            x='continent', \n",
    "            y='gdpPercap',\n",
    "            order=['Africa', 'Americas', 'Asia', 'Europe', 'Oceania'],\n",
    "            fliersize = 2, # size of the flier / outlier\n",
    "            linewidth = 1.2, # line width \n",
    "            width = 0.7, # width of the box\n",
    "            palette = 'Paired') # the color palette \n",
    "plt.title('Per-Capita GDP Distributions Per Continent', fontsize=12)\n",
    "plt.xlabel('Continents')\n",
    "plt.ylabel('Per-Capita GDP (International Dollars)');"
   ]
  },
  {
   "cell_type": "markdown",
   "metadata": {},
   "source": [
    "If flier size is set to 0, then outliers will not be shown. "
   ]
  },
  {
   "cell_type": "code",
   "execution_count": 38,
   "metadata": {},
   "outputs": [
    {
     "data": {
      "image/png": "[encoded data removed]",
      "text/plain": [
       "<Figure size 432x288 with 1 Axes>"
      ]
     },
     "metadata": {
      "needs_background": "light"
     },
     "output_type": "display_data"
    }
   ],
   "source": [
    "sns.boxplot(data=gm_latest, \n",
    "            x='continent', \n",
    "            y='gdpPercap',\n",
    "            order=['Africa', 'Americas', 'Asia', 'Europe', 'Oceania'],\n",
    "            fliersize = 0, # size of the flier = 0\n",
    "            linewidth = 1.2, \n",
    "            width = 0.7, \n",
    "            palette = 'Paired')\n",
    "plt.title('Per-Capita GDP Distributions Per Continent', fontsize=12)\n",
    "plt.xlabel('Continents')\n",
    "plt.ylabel('Per-Capita GDP (International Dollars)');"
   ]
  },
  {
   "cell_type": "markdown",
   "metadata": {
    "tags": []
   },
   "source": [
    "## 🥊 Challenge 3: Reference Line\n",
    "\n",
    "What if we want to plot a horizontal reference line on the boxplot, indicating the mean GDP of all countries in the year of 2007? Try to interpret the boxplot with the additional information provided by the reference line. "
   ]
  },
  {
   "cell_type": "code",
   "execution_count": 40,
   "metadata": {},
   "outputs": [
    {
     "data": {
      "text/plain": [
       "11680.071819878172"
      ]
     },
     "execution_count": 40,
     "metadata": {},
     "output_type": "execute_result"
    }
   ],
   "source": [
    "# starter code\n",
    "gm_latest['gdpPercap'].mean()"
   ]
  },
  {
   "cell_type": "code",
   "execution_count": 42,
   "metadata": {},
   "outputs": [],
   "source": [
    "\n",
    "# YOUR CODE HERE\n"
   ]
  },
  {
   "cell_type": "markdown",
   "metadata": {},
   "source": [
    "🔔 **Question**: How to interpret the boxplot with the additional information from the reference line?"
   ]
  },
  {
   "cell_type": "markdown",
   "metadata": {
    "tags": []
   },
   "source": [
    "<a id='demo1'></a>\n",
    "\n",
    "## 🎬 **Demo**: Overlay a Strip plot on Top of the Box Plot"
   ]
  },
  {
   "cell_type": "markdown",
   "metadata": {},
   "source": [
    "The strip plot is analogous to the box plot. It is typically drawn to complement a box plot. You can think of it as a single-dimensional scatter plot, showing all individual data points of a distribution. \n",
    "\n",
    "Let's take a look at the [documentation](https://seaborn.pydata.org/generated/seaborn.stripplot.html) of `sns.stripplot`; you will find it similar to `sns.boxplot`. "
   ]
  },
  {
   "cell_type": "markdown",
   "metadata": {},
   "source": [
    "In seaborn/matplotlib, we can overlay multiple stacks of plotting details. \n",
    "\n",
    "For instance, we can first use `sns.boxplot` to create boxplots of GDP, setting the color of box to white. We then add another layer of details, creating a strip plot using `sns.stripplot`, which shows the entire distribution. "
   ]
  },
  {
   "cell_type": "code",
   "execution_count": 39,
   "metadata": {},
   "outputs": [
    {
     "data": {
      "image/png": "[encoded data removed]",
      "text/plain": [
       "<Figure size 432x288 with 1 Axes>"
      ]
     },
     "metadata": {
      "needs_background": "light"
     },
     "output_type": "display_data"
    }
   ],
   "source": [
    "# create a boxplot\n",
    "sns.boxplot(data=gm_latest, \n",
    "            x='continent', \n",
    "            y='gdpPercap',\n",
    "            order=['Africa', 'Americas', 'Asia', 'Europe', 'Oceania'],\n",
    "            color='white',\n",
    "            fliersize = 3,\n",
    "            linewidth = 1.2,\n",
    "            width = 0.7)\n",
    "\n",
    "# create a strip plot\n",
    "sns.stripplot(data=gm_latest, \n",
    "            x='continent', \n",
    "            y='gdpPercap',\n",
    "            order=['Africa', 'Americas', 'Asia', 'Europe', 'Oceania'],\n",
    "            palette='Paired')\n",
    "\n",
    "# add descriptive texts\n",
    "plt.title('Per-Capita GDP Distributions Per Continent', fontsize=12)\n",
    "plt.xlabel('Continents')\n",
    "plt.ylabel('Per-Capita GDP (International Dollars)');"
   ]
  }
 ],
 "metadata": {
  "kernelspec": {
   "display_name": "Python 3 (ipykernel)",
   "language": "python",
   "name": "python3"
  },
  "language_info": {
   "codemirror_mode": {
    "name": "ipython",
    "version": 3
   },
   "file_extension": ".py",
   "mimetype": "text/x-python",
   "name": "python",
   "nbconvert_exporter": "python",
   "pygments_lexer": "ipython3",
   "version": "3.9.12"
  },
  "toc-autonumbering": false,
  "toc-showcode": false
 },
 "nbformat": 4,
 "nbformat_minor": 4
}
