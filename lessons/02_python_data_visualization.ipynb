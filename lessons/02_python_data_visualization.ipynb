{
 "cells": [
  {
   "cell_type": "markdown",
   "metadata": {},
   "source": [
    "# Python Data Visualization: Part 2\n",
    "\n",
    "* * * \n",
    "\n",
    "<div class=\"alert alert-success\">  \n",
    "    \n",
    "### Learning Objectives \n",
    "    \n",
    "* Use `seaborn` to visualize scatter plot and line plot.\n",
    "* Learn to create subplots.\n",
    "* Gain familarity with customization and plotting styles. \n",
    "    \n",
    "</div>\n",
    "\n",
    "### Icons Used in This Notebook\n",
    "🔔 **Question**: A quick question to help you understand what's going on.<br>\n",
    "🥊 **Challenge**: Interactive excersise. We'll work through these in the workshop!<br>\n",
    "🎬 **Demo**: Showing off something more advanced – so you know what Python can be used for!<br> \n",
    "\n",
    "### Sections\n",
    "7. [Scatter Plot](#section7)\n",
    "8. [Line Plot](#section8)\n",
    "9. [Subplot](#section9)\n",
    "10. [Customization](#section10)\n",
    "11. [Demo: Change Plot Styles](#section11)\n",
    "12. [Save Figures](#section12)"
   ]
  },
  {
   "cell_type": "markdown",
   "metadata": {},
   "source": [
    "# Import Libraries and Load Dataset"
   ]
  },
  {
   "cell_type": "code",
   "execution_count": null,
   "metadata": {},
   "outputs": [],
   "source": [
    "# Import pandas and assign it to an alias `pd`\n",
    "import pandas as pd\n",
    "\n",
    "# Import numpy and assign it to an alias 'np'\n",
    "import numpy as np\n",
    "\n",
    "# Import matplotlib and assign it to an alias `mpl`\n",
    "import matplotlib as mpl \n",
    "\n",
    "# Import matplotlib.pyplot and assign it to an alias `plt`\n",
    "import matplotlib.pyplot as plt\n",
    "\n",
    "# Import seaborn as assign to an alias `sns`\n",
    "import seaborn as sns"
   ]
  },
  {
   "cell_type": "markdown",
   "metadata": {},
   "source": [
    "Let's load the same `gm` dataset we've used in Part 1. "
   ]
  },
  {
   "cell_type": "code",
   "execution_count": null,
   "metadata": {},
   "outputs": [],
   "source": [
    "gm = pd.read_csv('../data/gapminder.tsv', sep='\\t')"
   ]
  },
  {
   "cell_type": "markdown",
   "metadata": {},
   "source": [
    "<a id='section7'></a>\n",
    "\n",
    "# Scatter Plot"
   ]
  },
  {
   "cell_type": "markdown",
   "metadata": {},
   "source": [
    "In data science, we often need to plot the relationship between two variables. The most commonly used visualization tool for a bivariate plot is a scatter plot, in which we plot the individual data point, each corresponds to a value in x- and y- axis. The scatter plot usually uncovers the relationship between two varaibles, such as a positive or negative correlation. \n",
    "\n",
    "Let's say we are interested in exploring the relationship between GDP and life expectancy. What we want to plot on each axis also reveals our prediction about the relationship. If we choose to plot GDP on the x-axis, naturally, it means that we are interested to know if GDP would predict life expectancy. \n",
    "\n",
    "The function `sns.scatterplot` is pretty intuitive. What we need to do is to pass in values for the `x` and `y` parameter. "
   ]
  },
  {
   "cell_type": "code",
   "execution_count": null,
   "metadata": {},
   "outputs": [],
   "source": [
    "sns.scatterplot(data=gm, x='gdpPercap', y='lifeExp')\n",
    "plt.xlabel('Per-Capita GDP (International Dollars)')\n",
    "plt.ylabel('Life Expectancy (Years)');"
   ]
  },
  {
   "cell_type": "markdown",
   "metadata": {},
   "source": [
    "The scatter plot reveals a somewhat complex relationship between GDP and life expectancy. Note that both variables are not on the same **scale**, the GDP data is much larger than life expectancy data.\n",
    "\n",
    "Let's log-transform the GDP data, as did previously, so that both variables have comparable measurements. "
   ]
  },
  {
   "cell_type": "code",
   "execution_count": null,
   "metadata": {},
   "outputs": [],
   "source": [
    "gm['loggdp'] = np.log(gm['gdpPercap'])"
   ]
  },
  {
   "cell_type": "markdown",
   "metadata": {},
   "source": [
    "Let's plot the scatter plot again to see if there's any pattern that could be read easily. "
   ]
  },
  {
   "cell_type": "code",
   "execution_count": null,
   "metadata": {},
   "outputs": [],
   "source": [
    "sns.scatterplot(data=gm, x='loggdp', y='lifeExp')\n",
    "plt.xlabel('Per-Capita GDP (in Log Scale)')\n",
    "plt.ylabel('Life Expectancy (Years)');"
   ]
  },
  {
   "cell_type": "markdown",
   "metadata": {},
   "source": [
    "If you'd rather not transforming the data, we could also use the function `plt.xscale()` to convert the GDP data to log scale without directly modifying the data."
   ]
  },
  {
   "cell_type": "code",
   "execution_count": null,
   "metadata": {},
   "outputs": [],
   "source": [
    "sns.scatterplot(data=gm, x='gdpPercap', y='lifeExp')\n",
    "plt.xscale('log')\n",
    "plt.xlabel('Per-Capita GDP (in Log Scale)')\n",
    "plt.ylabel('Life Expectancy (Years)');"
   ]
  },
  {
   "cell_type": "markdown",
   "metadata": {
    "toc-hr-collapsed": true
   },
   "source": [
    "## Overplotting"
   ]
  },
  {
   "cell_type": "markdown",
   "metadata": {},
   "source": [
    "Now we have a more interpretable scatter plot, showing a positive relationship between GDP and life expectancy.\n",
    "\n",
    "What is lacking in this plot is that there are so many data points clustered together. It is difficult to easily identify each individual data point within this dense cluster of data. One simple solution is to adjust the transparency of the circles, allowing us to distinguish overlapping areas. \n",
    "\n",
    "Let's again take a look at the [documentation](https://seaborn.pydata.org/generated/seaborn.scatterplot.html) of `sns.scatterplot`. The parameter we are looking for is `alpha`. "
   ]
  },
  {
   "cell_type": "code",
   "execution_count": null,
   "metadata": {},
   "outputs": [],
   "source": [
    "sns.scatterplot(data=gm, \n",
    "                x='gdpPercap', \n",
    "                y='lifeExp', \n",
    "                alpha=0.4) # adjust the transparency \n",
    "plt.xscale('log')\n",
    "plt.xlabel('Per-Capita GDP (in Log Scale)')\n",
    "plt.ylabel('Life Expectancy (Years)');"
   ]
  },
  {
   "cell_type": "markdown",
   "metadata": {},
   "source": [
    "Of course, we can also adjust the size or shape the marker, making it smaller to avoid overlap. Here, we change the marker from circle to dot. "
   ]
  },
  {
   "cell_type": "code",
   "execution_count": null,
   "metadata": {},
   "outputs": [],
   "source": [
    "sns.scatterplot(data=gm, \n",
    "                x='gdpPercap', \n",
    "                y='lifeExp', \n",
    "                alpha=0.4, # adjust the transparency\n",
    "                marker='.', # change marker style\n",
    "                facecolor='darkorange', # change marker color - face\n",
    "                edgecolor='None') # change marker color - edge\n",
    "plt.xscale('log')\n",
    "plt.xlabel('Per-Capita GDP (in Log Scale)')\n",
    "plt.ylabel('Life Expectancy (Years)');"
   ]
  },
  {
   "cell_type": "markdown",
   "metadata": {},
   "source": [
    "## Joint Plot"
   ]
  },
  {
   "cell_type": "markdown",
   "metadata": {},
   "source": [
    "Now we have a more interpretable and informative scatter plot. What typically added on to the scatter plot is the distribution of each variable, known as a jointplot.\n",
    "\n",
    "You can think it of a scatter plot plus histogram for each variable, so that at least we will have three pieces of information in mind:\n",
    "\n",
    "- The distribution of GDP\n",
    "- The distribution of life expectancy\n",
    "- The relationship between GDP and life expectancy"
   ]
  },
  {
   "cell_type": "code",
   "execution_count": null,
   "metadata": {},
   "outputs": [],
   "source": [
    "g = sns.jointplot(data=gm, \n",
    "           x='loggdp', \n",
    "           y='lifeExp',\n",
    "           alpha=0.4)\n",
    "g.ax_joint.set_xlabel('Per-Capita GDP (in Log Scale)')\n",
    "g.ax_joint.set_ylabel('Life Expectancy (Years)');"
   ]
  },
  {
   "cell_type": "markdown",
   "metadata": {},
   "source": [
    "## 🥊 Challenge 4: Add Conditional Colors"
   ]
  },
  {
   "cell_type": "markdown",
   "metadata": {},
   "source": [
    "We chose to plot all data points together in one jointplot. Read the [documentation](https://seaborn.pydata.org/generated/seaborn.jointplot.html) of `sns.jointplot` and find the parameter that assign data points different colors based on its continent.\n",
    "\n",
    "HINT: We've encountered the parameter many times!"
   ]
  },
  {
   "cell_type": "code",
   "execution_count": null,
   "metadata": {},
   "outputs": [],
   "source": [
    "# YOUR CODE HERE\n"
   ]
  },
  {
   "cell_type": "markdown",
   "metadata": {},
   "source": [
    "<a id='section8'></a>\n",
    "\n",
    "# Line Plot"
   ]
  },
  {
   "cell_type": "markdown",
   "metadata": {},
   "source": [
    "So far, we've learned how to plot the relationship between two variables using a scatter plot. However, if one of the variables is categorical or represents time, a line plot is a more suitable tool for displaying the relationship.\n",
    "\n",
    "When we have time on the x-axis, our interest lies in observing the changes in a variable. For instance, let's consider examining how life expectancy changes across the time span from 1950 to 2007.\n",
    "\n",
    "We first create two dataframes, subselecting countries that have the name `Portugal` or `Spain` from the original `gm` dataset using Boolean masking. Note the vertical bar represents the logical operation OR. "
   ]
  },
  {
   "cell_type": "code",
   "execution_count": null,
   "metadata": {},
   "outputs": [],
   "source": [
    "countries = gm[(gm['country'] == 'Portugal') | (gm['country'] == 'Spain')]"
   ]
  },
  {
   "cell_type": "markdown",
   "metadata": {},
   "source": [
    "Once the data is ready, we can move on to `sns.lineplot` to visualize the change of life Expectancy over time. "
   ]
  },
  {
   "cell_type": "markdown",
   "metadata": {},
   "source": [
    "`sns.lineplot` takes two arguments, we want `year` on the x-axis and `lifeExp` on the y-axis. As you probably know until now, we pass in `hue = country` to specify the grouping variable that produces lines with different colors. "
   ]
  },
  {
   "cell_type": "code",
   "execution_count": null,
   "metadata": {},
   "outputs": [],
   "source": [
    "sns.lineplot(data=countries, x='year', y='lifeExp', hue='country')\n",
    "plt.title('Life Expectancy of Portugal & Spain')\n",
    "plt.xlabel('Time (Years)')\n",
    "plt.ylabel('Life Expectancy (Years)')\n",
    "plt.legend(prop={'size': 10}, loc='lower right'); # specify the size and location of legend"
   ]
  },
  {
   "cell_type": "markdown",
   "metadata": {},
   "source": [
    "## 🎬 **Demo**: Aggregate Data"
   ]
  },
  {
   "cell_type": "markdown",
   "metadata": {},
   "source": [
    "The above line plot has one data point per year per country. What if we want to know how life expectancy changes over time for each continent? We will have more than one data point for per year as we have many countries in one continent. \n",
    "\n",
    "Still, we are able to have a glimpse of the relationship by aggregating all data points per year. \n",
    "\n",
    "Note in the following code block, we pass in the `gm` dataset and have `hue = continent`, same as the first line plot. \n",
    "\n",
    "Behind the scene, `Seaborn` automatically shows the aggregated line plot, and the method of aggregation, by default, is taking the mean. \n",
    "\n",
    "Alongside the confidence interval, showing the variation of expected life expectancy of each year for each continent. "
   ]
  },
  {
   "cell_type": "code",
   "execution_count": null,
   "metadata": {},
   "outputs": [],
   "source": [
    "plt.figure(figsize=(8, 6))\n",
    "sns.lineplot(data=gm, x='year', y='lifeExp', hue='continent')\n",
    "plt.title('Life Expectancy of Countries in Each Continent')\n",
    "plt.xlabel('Time (Years)')\n",
    "plt.ylabel('Life Expectancy (Years)')\n",
    "plt.legend(prop={'size': 10}, loc='lower right');"
   ]
  },
  {
   "cell_type": "markdown",
   "metadata": {},
   "source": [
    "## 🥊 Challenge 5: Change Marker "
   ]
  },
  {
   "cell_type": "markdown",
   "metadata": {},
   "source": [
    "Take a look at the [documentation](https://seaborn.pydata.org/generated/seaborn.lineplot.html) of `sns.lineplot`, find the parameters that 1) change the line style, and 2) show marker for each data point. "
   ]
  },
  {
   "cell_type": "code",
   "execution_count": null,
   "metadata": {},
   "outputs": [],
   "source": [
    "# YOUR CODE HERE\n"
   ]
  },
  {
   "cell_type": "markdown",
   "metadata": {},
   "source": [
    "<a id='section9'></a>\n",
    "\n",
    "# Subplot"
   ]
  },
  {
   "cell_type": "markdown",
   "metadata": {},
   "source": [
    "## `plt.subplot`"
   ]
  },
  {
   "cell_type": "markdown",
   "metadata": {},
   "source": [
    "Subplots allow us to draw multiple plots within a single figure. \n",
    "\n",
    "To do so, we use `plt.subplot(<num_rows>, <num_cols>, <index>)` where the number of rows and columns we want in the figure are specified as the first two parameters, respectively. \n",
    "\n",
    "The `<index>` tells subplot which subplot subsequent calls to `plt` will draw in. It starts at `1` for the top left subplot, and increases across rows, and then down columns. \n",
    "\n",
    "Let's look at a simple example plotting Spain and Portugal's GDP on separate plots next to each other in the same row."
   ]
  },
  {
   "cell_type": "code",
   "execution_count": null,
   "metadata": {},
   "outputs": [],
   "source": [
    "portugal = gm[(gm['country'] == 'Portugal')]\n",
    "spain = gm[(gm['country'] == 'Spain')]"
   ]
  },
  {
   "cell_type": "code",
   "execution_count": null,
   "metadata": {},
   "outputs": [],
   "source": [
    "plt.figure(figsize=(15, 5))\n",
    "plt.subplot(1, 2, 1) # num of row: 1, num of col: 2, plot index: 1\n",
    "plt.plot(spain['year'], spain['gdpPercap'], label='Spain', color='blue')\n",
    "plt.title('Spain')\n",
    "plt.xlabel('Time (Years)')\n",
    "plt.ylabel('Per-capita GPD (International Dollars)')\n",
    "plt.legend();\n",
    "\n",
    "plt.subplot(1, 2, 2) # num of row: 1, num of col: 2, plot index: 2\n",
    "plt.plot(portugal['year'], portugal['gdpPercap'], label='Portugal', color='red')\n",
    "plt.title('Portugal')\n",
    "plt.xlabel('Time (Years)')\n",
    "plt.ylabel('Per-capita GPD (International Dollars)')\n",
    "plt.legend();"
   ]
  },
  {
   "cell_type": "markdown",
   "metadata": {},
   "source": [
    "🔔 **Question**: Notice any difference on the y-axis ?"
   ]
  },
  {
   "cell_type": "markdown",
   "metadata": {},
   "source": [
    "## `sns.facetgrid`"
   ]
  },
  {
   "cell_type": "markdown",
   "metadata": {},
   "source": [
    "We can of course use the seaborn equivalent to plot subplots! \n",
    "\n",
    "The function `sns.facetgrid` breaks the data up across multiple subplots, which ara arranged in the way specified by the user. "
   ]
  },
  {
   "cell_type": "code",
   "execution_count": null,
   "metadata": {},
   "outputs": [],
   "source": [
    "countries.head()"
   ]
  },
  {
   "cell_type": "markdown",
   "metadata": {},
   "source": [
    "The first step of creating subplots is to assign the dataframe to `sns.facetgrid`, which returns a set of axes with no data."
   ]
  },
  {
   "cell_type": "code",
   "execution_count": null,
   "metadata": {},
   "outputs": [],
   "source": [
    "sns.FacetGrid(countries);"
   ]
  },
  {
   "cell_type": "markdown",
   "metadata": {},
   "source": [
    "Let's take a look at the [documentation](https://seaborn.pydata.org/generated/seaborn.FacetGrid.html). There are three important variables--`row`, `col`, and `hue`, analogous to `plt.subplot`.\n",
    "\n",
    "If we pass `col='country'`, we are asking `seaborn` to create columns based on groups/levels of the `country` column. \n",
    "\n",
    "In the `countries` dataframe, we have exactly two levels for `country`--`Portugal` and `Spain`, that's why we see two empty subplot arranged next to each other. "
   ]
  },
  {
   "cell_type": "code",
   "execution_count": null,
   "metadata": {},
   "outputs": [],
   "source": [
    "sns.FacetGrid(countries, col='country');"
   ]
  },
  {
   "cell_type": "markdown",
   "metadata": {},
   "source": [
    "Note that we haven't yet specify what kind of data we want to show in the subplot. \n",
    "\n",
    "To do so, we first assign the empty subplots to a new variable `g`, and then use the `.map()` function to apply our selected plotting function to the axes.\n",
    "\n",
    "An important difference is that subplots share the same x and y axes!\n",
    "\n",
    "Let's go back to the [documentation](https://seaborn.pydata.org/generated/seaborn.FacetGrid.html) of `sns.FacetGrid` again. The two parameters `sharex` and `sharey` are by default `True`. "
   ]
  },
  {
   "cell_type": "code",
   "execution_count": null,
   "metadata": {},
   "outputs": [],
   "source": [
    "g = sns.FacetGrid(countries, col='country')\n",
    "g.map(sns.lineplot, \"year\", \"gdpPercap\");"
   ]
  },
  {
   "cell_type": "markdown",
   "metadata": {},
   "source": [
    "Let's add x and y labels to make the plot more informative! Since our plot is assigned to the variable `g`, let's use `.set_xlabels` function instead of using `plt.xlabel`. "
   ]
  },
  {
   "cell_type": "code",
   "execution_count": null,
   "metadata": {},
   "outputs": [],
   "source": [
    "g = sns.FacetGrid(countries, col='country', height=4, aspect=1.2)\n",
    "g.map(sns.lineplot, \"year\", \"gdpPercap\")\n",
    "g.set_xlabels('Year')\n",
    "g.set_ylabels('Per-Capita GDP');"
   ]
  },
  {
   "cell_type": "markdown",
   "metadata": {},
   "source": [
    "## 🥊 Challenge 6: Final Challenge"
   ]
  },
  {
   "cell_type": "markdown",
   "metadata": {},
   "source": [
    "Congratulations! We have covered the essential content of this workshop. The next challenge is designed to integrate the skills we've acquired into a single task.\n",
    "\n",
    "The task is straightforward: based on our previous exercises, we've established a positive relationship between log GDP and life expectancy. However, do we observe this relationship for every individual year?\n",
    "\n",
    "To tackle this, let's generate subplots using `sns.FacetGrid`, with each subplot corresponding to a specific year. Furthermore, within each of these plots, utilize color to distinguish data from different continents."
   ]
  },
  {
   "cell_type": "code",
   "execution_count": null,
   "metadata": {},
   "outputs": [],
   "source": [
    "# starter code\n",
    "\n",
    "# g = sns.FacetGrid(gm, \n",
    "#                   col= \n",
    "#                   hue= \n",
    "#                   col_wrap= \n",
    "#                   height= )\n",
    "# g.map(  )\n",
    "# g.set_xlabels( )\n",
    "# g.set_ylabels( )\n",
    "# g.add_legend();"
   ]
  },
  {
   "cell_type": "markdown",
   "metadata": {},
   "source": [
    "<a id='section10'></a>\n",
    "\n",
    "# Customization"
   ]
  },
  {
   "cell_type": "markdown",
   "metadata": {},
   "source": [
    "We've already touched upon the idea of plot customization along the workshop. To recap, so far, we have experimented with functions to change figure size, change marker color and color opacity. \n",
    "\n",
    "There are built-in collections of style sheets that allow for a quick and easy way to get nice looking plots in a particular style. To use a style sheet you simply call the `plt.style.use()` function and give it the name of the style sheet you want to use. "
   ]
  },
  {
   "cell_type": "markdown",
   "metadata": {},
   "source": [
    "## [Style Sheets](https://matplotlib.org/stable/gallery/style_sheets/style_sheets_reference.html)\n",
    "\n",
    "- ggplot\n",
    "- bmh\n",
    "- fivethirtyeight"
   ]
  },
  {
   "cell_type": "markdown",
   "metadata": {},
   "source": [
    "For more on style sheets print all available style sheets using `plt.style.available`, or see the ([documentation](https://matplotlib.org/stable/tutorials/introductory/customizing.html)).\n",
    "\n",
    "In addition to style sheets, we can also apply style libraries that are not built-in by the plotting library but created by others. For instance, `SciencePlots` is the one that adopts the plotting style frequently seen in journal articles.\n",
    "\n",
    "These libraries, like any other python libraries, need to be installed first. "
   ]
  },
  {
   "cell_type": "markdown",
   "metadata": {},
   "source": [
    "## Style Libraries\n",
    "\n",
    "- [py.scienceplots](https://pypi.org/project/SciencePlots/)"
   ]
  },
  {
   "cell_type": "markdown",
   "metadata": {},
   "source": [
    "<a id='section11'></a>\n",
    "\n",
    "## 🎬 **Demo**: Change Plot Styles"
   ]
  },
  {
   "cell_type": "markdown",
   "metadata": {},
   "source": [
    "In this demo, we will walk through applying style sheets and style libraries mentioned above.\n",
    "\n",
    "The `ggplot` style sheet emulates the ggplot package in R. "
   ]
  },
  {
   "cell_type": "code",
   "execution_count": null,
   "metadata": {},
   "outputs": [],
   "source": [
    "gm_latest = gm[gm['year'] == 2007]"
   ]
  },
  {
   "cell_type": "code",
   "execution_count": null,
   "metadata": {},
   "outputs": [],
   "source": [
    "plt.style.use('ggplot')\n",
    "sns.boxplot(data=gm_latest, \n",
    "            x='continent', \n",
    "            y='gdpPercap',\n",
    "            order=['Africa', 'Americas', 'Asia', 'Europe', 'Oceania'])\n",
    "plt.title('Per-Capita GDP Distributions Per Continent', fontsize=12)\n",
    "plt.xlabel('Continents')\n",
    "plt.ylabel('Per-Capita GDP (International Dollars)');"
   ]
  },
  {
   "cell_type": "markdown",
   "metadata": {},
   "source": [
    "The `bmh` style, is adpated from the Bayesian Methods for Hackers book."
   ]
  },
  {
   "cell_type": "code",
   "execution_count": null,
   "metadata": {},
   "outputs": [],
   "source": [
    "plt.style.use('default')\n",
    "plt.style.use('fivethirtyeight')\n",
    "sns.boxplot(data=gm_latest, \n",
    "            x='continent', \n",
    "            y='gdpPercap',\n",
    "            order=['Africa', 'Americas', 'Asia', 'Europe', 'Oceania'])\n",
    "plt.title('Per-Capita GDP Distributions Per Continent', fontsize=12)\n",
    "plt.xlabel('Continents')\n",
    "plt.ylabel('Per-Capita GDP (International Dollars)');"
   ]
  },
  {
   "cell_type": "markdown",
   "metadata": {},
   "source": [
    "To use the plotting library `SciencePlots`, let install it with `!pip`."
   ]
  },
  {
   "cell_type": "code",
   "execution_count": null,
   "metadata": {},
   "outputs": [],
   "source": [
    "!pip install SciencePlots"
   ]
  },
  {
   "cell_type": "code",
   "execution_count": null,
   "metadata": {},
   "outputs": [],
   "source": [
    "import scienceplots\n",
    "plt.style.use('default')\n",
    "plt.style.use(['science', 'notebook'])"
   ]
  },
  {
   "cell_type": "code",
   "execution_count": null,
   "metadata": {},
   "outputs": [],
   "source": [
    "sns.boxplot(data=gm_latest, \n",
    "            x='continent', \n",
    "            y='gdpPercap',\n",
    "            order=['Africa', 'Americas', 'Asia', 'Europe', 'Oceania'])\n",
    "plt.title('Per-Capita GDP Distributions Per Continent', fontsize=12)\n",
    "plt.xlabel('Continents')\n",
    "plt.ylabel('Per-Capita GDP (International Dollars)');"
   ]
  },
  {
   "cell_type": "markdown",
   "metadata": {},
   "source": [
    "<a id='section12'></a>\n",
    "\n",
    "# Save Figures"
   ]
  },
  {
   "cell_type": "markdown",
   "metadata": {},
   "source": [
    "Finally, if you'd like to save a plot you can use the `plt.savefig` function that is part of the matplotlib package. This will create an image file saved to wherever you specify. Running the cell below will save the plot as `boxplot.png` within the data directory."
   ]
  },
  {
   "cell_type": "code",
   "execution_count": null,
   "metadata": {},
   "outputs": [],
   "source": [
    "plt.style.use('default')\n",
    "sns.boxplot(data=gm_latest, \n",
    "            x='continent', \n",
    "            y='gdpPercap',\n",
    "            order=['Africa', 'Americas', 'Asia', 'Europe', 'Oceania'])\n",
    "plt.title('Per-Capita GDP Distributions Per Continent', fontsize=12)\n",
    "plt.xlabel('Continents')\n",
    "plt.ylabel('Per-Capita GDP (International Dollars)')\n",
    "plt.savefig('../data/boxplot.png', dpi=150);"
   ]
  },
  {
   "cell_type": "markdown",
   "metadata": {},
   "source": [
    "\n",
    "# Going further"
   ]
  },
  {
   "cell_type": "markdown",
   "metadata": {},
   "source": [
    "There are many visualization libraries in Python and you now have experience in using two popular ones.\n",
    "\n",
    "Several other Python visualization libraries exist for creating *interactive* visualizations such as [Plotly](https://plot.ly/python/), [Bokeh](http://bokeh.pydata.org/en/latest/), or [Toyplot](http://toyplot.readthedocs.org/en/stable/tutorial.html#getting-started)."
   ]
  },
  {
   "cell_type": "markdown",
   "metadata": {
    "tags": []
   },
   "source": [
    "<div class=\"alert alert-success\">\n",
    "\n",
    "## ❗ Key Points\n",
    "\n",
    "* Examine the data carefully and see if there's any variable that needs to be transformed. \n",
    "* Align subplots on the same scale is important for readers to interpret the results. \n",
    "* Apply style sheets if necessary. \n",
    "\n",
    "</div>"
   ]
  }
 ],
 "metadata": {
  "kernelspec": {
   "display_name": "Python 3 (ipykernel)",
   "language": "python",
   "name": "python3"
  },
  "language_info": {
   "codemirror_mode": {
    "name": "ipython",
    "version": 3
   },
   "file_extension": ".py",
   "mimetype": "text/x-python",
   "name": "python",
   "nbconvert_exporter": "python",
   "pygments_lexer": "ipython3",
   "version": "3.8.12"
  }
 },
 "nbformat": 4,
 "nbformat_minor": 4
}
