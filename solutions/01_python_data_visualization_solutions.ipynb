{
 "cells": [
  {
   "cell_type": "markdown",
   "metadata": {},
   "source": [
    "# Python Data Visualization: Part 1\n",
    "# SOLUTIONS"
   ]
  },
  {
   "cell_type": "code",
   "execution_count": 1,
   "metadata": {
    "tags": []
   },
   "outputs": [],
   "source": [
    "import pandas as pd\n",
    "import matplotlib as mpl \n",
    "import matplotlib.pyplot as plt\n",
    "import seaborn as sns"
   ]
  },
  {
   "cell_type": "code",
   "execution_count": 7,
   "metadata": {},
   "outputs": [],
   "source": [
    "gm = pd.read_csv('../data/gapminder.tsv', sep='\\t')"
   ]
  },
  {
   "cell_type": "code",
   "execution_count": null,
   "metadata": {},
   "outputs": [
    {
     "data": {
      "text/plain": [
       "2007"
      ]
     },
     "execution_count": 9,
     "metadata": {},
     "output_type": "execute_result"
    }
   ],
   "source": [
    "latest_year = gm['year'].max()\n",
    "latest_year"
   ]
  },
  {
   "cell_type": "code",
   "execution_count": 10,
   "metadata": {},
   "outputs": [
    {
     "data": {
      "text/html": [
       "<div>\n",
       "<style scoped>\n",
       "    .dataframe tbody tr th:only-of-type {\n",
       "        vertical-align: middle;\n",
       "    }\n",
       "\n",
       "    .dataframe tbody tr th {\n",
       "        vertical-align: top;\n",
       "    }\n",
       "\n",
       "    .dataframe thead th {\n",
       "        text-align: right;\n",
       "    }\n",
       "</style>\n",
       "<table border=\"1\" class=\"dataframe\">\n",
       "  <thead>\n",
       "    <tr style=\"text-align: right;\">\n",
       "      <th></th>\n",
       "      <th>country</th>\n",
       "      <th>continent</th>\n",
       "      <th>year</th>\n",
       "      <th>lifeExp</th>\n",
       "      <th>pop</th>\n",
       "      <th>gdpPercap</th>\n",
       "    </tr>\n",
       "  </thead>\n",
       "  <tbody>\n",
       "    <tr>\n",
       "      <th>11</th>\n",
       "      <td>Afghanistan</td>\n",
       "      <td>Asia</td>\n",
       "      <td>2007</td>\n",
       "      <td>43.828</td>\n",
       "      <td>31889923.0</td>\n",
       "      <td>974.580338</td>\n",
       "    </tr>\n",
       "    <tr>\n",
       "      <th>23</th>\n",
       "      <td>Albania</td>\n",
       "      <td>Europe</td>\n",
       "      <td>2007</td>\n",
       "      <td>76.423</td>\n",
       "      <td>3600523.0</td>\n",
       "      <td>5937.029526</td>\n",
       "    </tr>\n",
       "    <tr>\n",
       "      <th>35</th>\n",
       "      <td>Algeria</td>\n",
       "      <td>Africa</td>\n",
       "      <td>2007</td>\n",
       "      <td>72.301</td>\n",
       "      <td>33333216.0</td>\n",
       "      <td>6223.367465</td>\n",
       "    </tr>\n",
       "    <tr>\n",
       "      <th>47</th>\n",
       "      <td>Angola</td>\n",
       "      <td>Africa</td>\n",
       "      <td>2007</td>\n",
       "      <td>42.731</td>\n",
       "      <td>12420476.0</td>\n",
       "      <td>4797.231267</td>\n",
       "    </tr>\n",
       "    <tr>\n",
       "      <th>59</th>\n",
       "      <td>Argentina</td>\n",
       "      <td>Americas</td>\n",
       "      <td>2007</td>\n",
       "      <td>75.320</td>\n",
       "      <td>40301927.0</td>\n",
       "      <td>12779.379640</td>\n",
       "    </tr>\n",
       "  </tbody>\n",
       "</table>\n",
       "</div>"
      ],
      "text/plain": [
       "        country continent  year  lifeExp         pop     gdpPercap\n",
       "11  Afghanistan      Asia  2007   43.828  31889923.0    974.580338\n",
       "23      Albania    Europe  2007   76.423   3600523.0   5937.029526\n",
       "35      Algeria    Africa  2007   72.301  33333216.0   6223.367465\n",
       "47       Angola    Africa  2007   42.731  12420476.0   4797.231267\n",
       "59    Argentina  Americas  2007   75.320  40301927.0  12779.379640"
      ]
     },
     "execution_count": 10,
     "metadata": {},
     "output_type": "execute_result"
    }
   ],
   "source": [
    "gm_latest = gm[gm['year'] == latest_year]\n",
    "gm_latest.head()"
   ]
  },
  {
   "cell_type": "markdown",
   "metadata": {
    "tags": []
   },
   "source": [
    "---\n",
    "## 🥊 Challenge 1: Find the Parameter\n",
    "\n",
    "Now we have the GDP distribution of two continents in two separate plots. Note that the y-axes are not on the same scale. To have a more informative comparison of these two distributions, it's better to have them in the same plot. \n",
    "\n",
    "The `sns.histplot()` function has a parameter that can help us do that! Spend some time reading the [documentation](https://seaborn.pydata.org/generated/seaborn.histplot.html) of `sns.histplot()`, find the parameter that does that job and plot the distributions!\n",
    "\n",
    "The data is ready for you to use. The `gm_subset` is a subset of the gapminder dataset, only including data from Asian and African countries. \n",
    "\n",
    "---"
   ]
  },
  {
   "cell_type": "code",
   "execution_count": 24,
   "metadata": {},
   "outputs": [],
   "source": [
    "# starter code \n",
    "gm_subset = gm.loc[(gm['continent'] == 'Asia') | (gm['continent'] == 'Africa')]"
   ]
  },
  {
   "cell_type": "code",
   "execution_count": null,
   "metadata": {},
   "outputs": [],
   "source": [
    "\n",
    "# YOUR CODE HERE\n"
   ]
  },
  {
   "cell_type": "code",
   "execution_count": 26,
   "metadata": {},
   "outputs": [
    {
     "data": {
      "image/png": "[encoded data removed]",
      "text/plain": [
       "<Figure size 432x288 with 1 Axes>"
      ]
     },
     "metadata": {
      "needs_background": "light"
     },
     "output_type": "display_data"
    }
   ],
   "source": [
    "sns.histplot(data=gm_subset, \n",
    "             x='gdpPercap', \n",
    "             bins=30, \n",
    "             kde=True,\n",
    "             log_scale=True,\n",
    "             hue='continent');"
   ]
  },
  {
   "cell_type": "markdown",
   "metadata": {},
   "source": [
    "📝 **Poll:** Compare the GDP distribution of Asia and Africa, what can we learn from the plot?"
   ]
  },
  {
   "cell_type": "markdown",
   "metadata": {},
   "source": [
    "---\n",
    "\n",
    "## 🥊 Challenge 2: Compare GDP Growth\n",
    "\n",
    "For the barplot shown above, we plotted the mean GDP of the year 2007. What if we want to compare the data from 1952 and 2007? Spend some time reading the [documentation](https://seaborn.pydata.org/generated/seaborn.barplot.html), and find out what is the parameter that is used as a group/level indicator.\n",
    "\n",
    "The data is ready for you to use. The `gm_year` is a subset of the gapminder dataset, only including data from 1952 and 2007.\n",
    "\n",
    "---"
   ]
  },
  {
   "cell_type": "code",
   "execution_count": 32,
   "metadata": {},
   "outputs": [],
   "source": [
    "# starter code\n",
    "gm_year = gm[(gm['year'] == 2007) | (gm['year'] == 1952)]"
   ]
  },
  {
   "cell_type": "code",
   "execution_count": 34,
   "metadata": {},
   "outputs": [
    {
     "data": {
      "image/png": "[encoded data removed]",
      "text/plain": [
       "<Figure size 432x288 with 1 Axes>"
      ]
     },
     "metadata": {
      "needs_background": "light"
     },
     "output_type": "display_data"
    }
   ],
   "source": [
    "sns.barplot(data=gm_year, \n",
    "            x=\"continent\", \n",
    "            y=\"gdpPercap\",\n",
    "            order=['Africa', 'Americas', 'Asia', 'Europe', 'Oceania'],\n",
    "            hue='year')\n",
    "plt.title('Estimated Per-Capita GDP Per Continent')\n",
    "plt.xlabel('Continents')\n",
    "plt.ylabel('Per-Capita GDP (International Dollars)');"
   ]
  },
  {
   "cell_type": "markdown",
   "metadata": {},
   "source": [
    "---\n",
    "\n",
    "## 🥊 Challenge 3: Reference Line\n",
    "\n",
    "What if we want to plot a horizontal reference line on the boxplot, indicating the mean GDP of all countries in the year of 2007? Try to interpret the boxplot with the additional information provided by the reference line. \n",
    "\n",
    "---"
   ]
  },
  {
   "cell_type": "code",
   "execution_count": 40,
   "metadata": {},
   "outputs": [
    {
     "data": {
      "text/plain": [
       "11680.071819878172"
      ]
     },
     "execution_count": 40,
     "metadata": {},
     "output_type": "execute_result"
    }
   ],
   "source": [
    "# starter code\n",
    "gm_latest['gdpPercap'].mean()"
   ]
  },
  {
   "cell_type": "code",
   "execution_count": 41,
   "metadata": {},
   "outputs": [
    {
     "data": {
      "image/png": "[encoded data removed]",
      "text/plain": [
       "<Figure size 432x288 with 1 Axes>"
      ]
     },
     "metadata": {
      "needs_background": "light"
     },
     "output_type": "display_data"
    }
   ],
   "source": [
    "sns.boxplot(data=gm_latest, \n",
    "            x='continent', \n",
    "            y='gdpPercap',\n",
    "            order=['Africa', 'Americas', 'Asia', 'Europe', 'Oceania'],\n",
    "            color='white',\n",
    "            fliersize = 3,\n",
    "            linewidth = 1.2,\n",
    "            width = 0.7,\n",
    "            palette = 'Paired')\n",
    "plt.axhline(y=gm_latest['gdpPercap'].mean(), color='grey', linestyle='dashed') \n",
    "plt.title('Per-Capita GDP Distributions Per Continent', fontsize=12)\n",
    "plt.xlabel('Continents')\n",
    "plt.ylabel('Per-Capita GDP (International Dollars)');"
   ]
  }
 ],
 "metadata": {
  "kernelspec": {
   "display_name": "Python 3 (ipykernel)",
   "language": "python",
   "name": "python3"
  },
  "language_info": {
   "codemirror_mode": {
    "name": "ipython",
    "version": 3
   },
   "file_extension": ".py",
   "mimetype": "text/x-python",
   "name": "python",
   "nbconvert_exporter": "python",
   "pygments_lexer": "ipython3",
   "version": "3.9.12"
  }
 },
 "nbformat": 4,
 "nbformat_minor": 4
}
