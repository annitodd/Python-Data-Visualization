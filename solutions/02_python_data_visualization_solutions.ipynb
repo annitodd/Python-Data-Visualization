{
 "cells": [
  {
   "cell_type": "markdown",
   "metadata": {},
   "source": [
    "# Python Data Visualization: Part 2\n",
    "# SOLUTIONS"
   ]
  },
  {
   "cell_type": "code",
   "execution_count": null,
   "metadata": {},
   "outputs": [],
   "source": [
    "import pandas as pd\n",
    "import matplotlib as mpl \n",
    "import matplotlib.pyplot as plt\n",
    "import seaborn as sns"
   ]
  },
  {
   "cell_type": "code",
   "execution_count": null,
   "metadata": {},
   "outputs": [],
   "source": [
    "gm = pd.read_csv('../data/gapminder.tsv', sep='\\t')"
   ]
  },
  {
   "cell_type": "markdown",
   "metadata": {},
   "source": [
    "--- \n",
    "## 🥊 Challenge 4: Add Conditional Colors\n",
    "\n",
    "We chose to plot all data points together in one jointplot. Read the documentation of [sns.jointplot](https://seaborn.pydata.org/generated/seaborn.jointplot.html) and find the parameter that assign data points different colors based on its continent.\n",
    "\n",
    "HINT: We've encountered the parameter many times!\n",
    "\n",
    "---"
   ]
  },
  {
   "cell_type": "code",
   "execution_count": null,
   "metadata": {},
   "outputs": [],
   "source": [
    "g = sns.jointplot(data=gm, \n",
    "           x='loggdp', \n",
    "           y='lifeExp',\n",
    "           alpha=0.4,\n",
    "           hue='continent')\n",
    "g.ax_joint.set_xlabel('Per-Capita GDP (in Log Scale)')\n",
    "g.ax_joint.set_ylabel('Life Expectancy (Years)');"
   ]
  },
  {
   "cell_type": "markdown",
   "metadata": {
    "tags": []
   },
   "source": [
    "---\n",
    "\n",
    "## 🥊 Challenge 5: Change Marker \n",
    "\n",
    "Take a look at the [documentation](https://seaborn.pydata.org/generated/seaborn.lineplot.html) of `sns.lineplot`, find the parameters that 1) change the line style, and 2) show marker for each data point. \n",
    "\n",
    "---"
   ]
  },
  {
   "cell_type": "code",
   "execution_count": null,
   "metadata": {},
   "outputs": [],
   "source": [
    "countries = gm[(gm['country'] == 'Portugal') | (gm['country'] == 'Spain')]"
   ]
  },
  {
   "cell_type": "code",
   "execution_count": null,
   "metadata": {},
   "outputs": [],
   "source": [
    "sns.lineplot(data=countries, x='year', y='lifeExp', style='country', markers=True)\n",
    "plt.title('Life Expectancy of Portugal & Spain')\n",
    "plt.xlabel('Time (Years)')\n",
    "plt.ylabel('Life Expectancy (Years)')\n",
    "plt.legend(prop={'size': 10}, loc='lower right');"
   ]
  },
  {
   "cell_type": "markdown",
   "metadata": {},
   "source": [
    "---\n",
    "\n",
    "## 🥊 Challenge 6: Final Challenge\n",
    "\n",
    "---"
   ]
  },
  {
   "cell_type": "code",
   "execution_count": null,
   "metadata": {},
   "outputs": [],
   "source": [
    "plt.style.use('default')\n",
    "g = sns.FacetGrid(gm, \n",
    "                  col=\"year\", \n",
    "                  hue='continent', \n",
    "                  col_wrap=4,\n",
    "                  height=3)\n",
    "g.map(sns.scatterplot, \"log_gdp\", \"lifeExp\")\n",
    "g.set_xlabels('Log Per-Capita GDP')\n",
    "g.set_ylabels('Life Expectancy (Years)')\n",
    "g.add_legend();"
   ]
  }
 ],
 "metadata": {
  "kernelspec": {
   "display_name": "Python 3 (ipykernel)",
   "language": "python",
   "name": "python3"
  },
  "language_info": {
   "codemirror_mode": {
    "name": "ipython",
    "version": 3
   },
   "file_extension": ".py",
   "mimetype": "text/x-python",
   "name": "python",
   "nbconvert_exporter": "python",
   "pygments_lexer": "ipython3",
   "version": "3.8.12"
  }
 },
 "nbformat": 4,
 "nbformat_minor": 4
}
